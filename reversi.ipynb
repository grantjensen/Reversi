{
 "cells": [
  {
   "cell_type": "code",
   "execution_count": 54,
   "id": "metric-interview",
   "metadata": {},
   "outputs": [],
   "source": [
    "import reversi_board\n",
    "import numpy as np\n",
    "import collections"
   ]
  },
  {
   "cell_type": "code",
   "execution_count": 344,
   "id": "aware-deficit",
   "metadata": {},
   "outputs": [],
   "source": [
    "class turnBoard(reversi_board.ReversiBoard):\n",
    "    def __init__(self, turn=2):\n",
    "        self.turn=turn\n",
    "        super(turnBoard, self).__init__()\n",
    "    \n",
    "    def changeTurn(self, turn):\n",
    "        #Maps 1->2 and 2->1\n",
    "        return (-(turn-1)+2)\n",
    "    \n",
    "    def push(self, p):\n",
    "        if p==-1: # pass turn\n",
    "            self.turn=self.changeTurn(self.turn)\n",
    "            return\n",
    "        else:\n",
    "            self.put_piece(p,self.turn)\n",
    "            self.turn=self.changeTurn(self.turn)\n",
    "            return\n",
    "        \n",
    "    \n",
    "    def isGameOver(self):\n",
    "        #Return 0 if draw, 1 if player whose turn it is wins, -1 if player whose turn it is loses.\n",
    "        if len(self.placable_positions(1))!=0:\n",
    "            return 0  # Not draw\n",
    "        if len(self.placable_positions(2))!=0:\n",
    "            return 0  # Not draw\n",
    "        counts=collections.Counter(self.board)\n",
    "        if counts[1]>counts[2]:\n",
    "            if self.turn==1:\n",
    "                return 1\n",
    "            else:\n",
    "                return -1\n",
    "        else:\n",
    "            if self.turn==2:\n",
    "                return 1\n",
    "            else:\n",
    "                return -1\n",
    "    \n",
    "    def copy(self):\n",
    "        boardCopy=turnBoard(self.turn)\n",
    "        boardCopy.board=self.board.copy()\n",
    "        return boardCopy\n",
    "    \n",
    "    def hash(self):\n",
    "        return np.append(self.board,self.turn).tobytes()"
   ]
  },
  {
   "cell_type": "code",
   "execution_count": 332,
   "id": "specified-chapter",
   "metadata": {},
   "outputs": [],
   "source": [
    "from scipy.stats import dirichlet\n",
    "import math\n",
    "x=0.75\n",
    "alpha=2\n",
    "c_puct=4\n",
    "class MCTS:\n",
    "    def __init__(self):\n",
    "        self.Q={}#Array for some given state as to the rewards for taking each action\n",
    "        self.N={}#Array for some given state as to the number of times each action has been visited from state\n",
    "        self.P={}#Policy vector for given state\n",
    "    \n",
    "    def search(self, s, nnet):\n",
    "        gameOver=s.isGameOver()\n",
    "        if gameOver!=0:  # Is game over?\n",
    "            return -gameOver\n",
    "        sh=s.hash()\n",
    "        if sh not in self.P.keys():  # Not visited\n",
    "            prediction=nnet.predict(np.reshape(s.board,(1,8,8),order='F'))\n",
    "            self.P[sh]=prediction[0][0]\n",
    "            v=prediction[1][0][0]\n",
    "            #Add dirichlet noise\n",
    "            self.P[sh]=np.array(self.P[sh])\n",
    "            self.P[sh]=x*self.P[sh]+(1-x)*dirichlet.rvs(np.ones(len(self.P[sh]))*alpha)[0]\n",
    "            self.N[sh]=np.zeros(64)\n",
    "            self.Q[sh]=np.zeros(64)\n",
    "            return -v\n",
    "        \n",
    "        max_u, best_square = -float(\"inf\"), -1\n",
    "        for square in s.placable_positions(s.turn):\n",
    "            u=self.Q[sh][square]+c_puct*self.P[sh][square]*math.sqrt(sum(self.N[sh]))/(1+self.N[sh][square])\n",
    "            if u>max_u:\n",
    "                max_u=u\n",
    "                best_square=square\n",
    "        square=best_square\n",
    "        sp=s.copy()\n",
    "        sp.push(square)\n",
    "        v=self.search(sp, nnet)\n",
    "        self.Q[sh][best_square]=(self.N[sh][best_square]*self.Q[sh][best_square]+v)/(self.N[sh][best_square]+1)\n",
    "        self.N[sh][best_square]+=1\n",
    "        return -1"
   ]
  },
  {
   "cell_type": "code",
   "execution_count": 310,
   "id": "painted-cruise",
   "metadata": {},
   "outputs": [],
   "source": [
    "from keras.models import *\n",
    "from keras.layers import *\n",
    "from keras.optimizers import *\n",
    "class ReversiModel:\n",
    "    def __init__(self):\n",
    "        inx = x=Input((8,8))\n",
    "        x=Reshape((8,8,1))(x)\n",
    "        for _ in range(10):  # Create residual layers\n",
    "            x=Conv2D(filters=64, kernel_size=(3,3), padding='same', data_format='channels_last')(x)\n",
    "            x=BatchNormalization(axis=3)(x)\n",
    "            x=Activation(\"relu\")(x)\n",
    "            \n",
    "        res_out=x\n",
    "        # Policy output\n",
    "        x=Conv2D(filters=2, kernel_size=1, data_format='channels_last')(res_out)\n",
    "        x=BatchNormalization(axis=3)(x)\n",
    "        x=Activation(\"relu\")(x)\n",
    "        x=Flatten()(x)\n",
    "        policy_out=Dense(8*8, activation=\"softmax\", name=\"policy_out\")(x)\n",
    "        self.model=policy_out\n",
    "        \n",
    "        #Value output\n",
    "        x=Conv2D(filters=1, kernel_size=1, data_format=\"channels_last\")(res_out)\n",
    "        x=BatchNormalization(axis=3)(x)\n",
    "        x=Activation(\"relu\")(x)\n",
    "        x=Flatten()(x)\n",
    "        value_out=Dense(1, activation='tanh', name='value_out')(x)\n",
    "        self.model=Model(inx, [policy_out, value_out], name='reversi_model')\n",
    "        self.model.compile(loss=['categorical_crossentropy','mean_squared_error'], optimizer='adam')"
   ]
  },
  {
   "cell_type": "code",
   "execution_count": 311,
   "id": "honest-simon",
   "metadata": {},
   "outputs": [],
   "source": [
    "model=ReversiModel().model"
   ]
  },
  {
   "cell_type": "code",
   "execution_count": 336,
   "id": "secondary-composite",
   "metadata": {},
   "outputs": [
    {
     "name": "stdout",
     "output_type": "stream",
     "text": [
      "[0.01253782 0.01469467 0.0166776  0.01600942 0.01454531 0.01541257\n",
      " 0.01608569 0.01367494 0.01571432 0.01805421 0.01487616 0.01370318\n",
      " 0.01534016 0.0147552  0.01666236 0.01665322 0.01385942 0.01647034\n",
      " 0.01493962 0.01318355 0.01641467 0.02096492 0.01618015 0.01522931\n",
      " 0.0134501  0.01300505 0.01869642 0.01249678 0.01332983 0.01805335\n",
      " 0.01463793 0.02018527 0.0121688  0.01554972 0.01580851 0.01403049\n",
      " 0.01656505 0.01209395 0.01411019 0.0136147  0.01906569 0.01787291\n",
      " 0.01552927 0.01616079 0.02129428 0.01660992 0.01271245 0.01457276\n",
      " 0.01286269 0.02025693 0.01512416 0.01313635 0.01764382 0.01411331\n",
      " 0.01577373 0.01830101 0.02441996 0.01486207 0.01303879 0.01725069\n",
      " 0.01562643 0.0144654  0.01443441 0.01443722]\n",
      "[ 0.          0.          0.          0.          0.          0.\n",
      "  0.          0.          0.          0.          0.          0.\n",
      "  0.          0.          0.          0.          0.          0.\n",
      "  0.          0.         -0.95997622  0.          0.          0.\n",
      "  0.          0.          0.          0.          0.         -0.96152465\n",
      "  0.          0.          0.          0.         -0.95832519  0.\n",
      "  0.          0.          0.          0.          0.          0.\n",
      "  0.         -0.95831146  0.          0.          0.          0.\n",
      "  0.          0.          0.          0.          0.          0.\n",
      "  0.          0.          0.          0.          0.          0.\n",
      "  0.          0.          0.          0.        ]\n",
      "[ 0.  0.  0.  0.  0.  0.  0.  0.  0.  0.  0.  0.  0.  0.  0.  0.  0.  0.\n",
      "  0.  0. 25.  0.  0.  0.  0.  0.  0.  0.  0. 26.  0.  0.  0.  0. 24.  0.\n",
      "  0.  0.  0.  0.  0.  0.  0. 24.  0.  0.  0.  0.  0.  0.  0.  0.  0.  0.\n",
      "  0.  0.  0.  0.  0.  0.  0.  0.  0.  0.]\n"
     ]
    }
   ],
   "source": [
    "mcts=MCTS()\n",
    "s=turnBoard(1)\n",
    "for i in range(100):\n",
    "    mcts.search(s, model)\n",
    "print(mcts.P[s.hash()])\n",
    "print(mcts.Q[s.hash()])\n",
    "print(mcts.N[s.hash()])"
   ]
  },
  {
   "cell_type": "code",
   "execution_count": 369,
   "id": "toxic-petroleum",
   "metadata": {},
   "outputs": [],
   "source": [
    "def executeEpisode(nnet):\n",
    "    examples=[]\n",
    "    s=turnBoard()\n",
    "    mcts=MCTS()\n",
    "    \n",
    "    while True:\n",
    "        for _ in range(2):\n",
    "            mcts.search(s,nnet)\n",
    "        pi=mcts.P[s.hash()]\n",
    "        examples.append([s, pi, None])\n",
    "        legalmoves=s.placable_positions(s.turn)\n",
    "        legalprobs=np.take(pi,legalmoves)\n",
    "        legalprobs/=sum(legalprobs)\n",
    "        a=np.random.choice(legalmoves, p=legalprobs)\n",
    "        s.push(a)\n",
    "        if s.isGameOver():\n",
    "            return s\n",
    "            #update examples\n",
    "            #return examples"
   ]
  },
  {
   "cell_type": "code",
   "execution_count": 370,
   "id": "fitting-sensitivity",
   "metadata": {},
   "outputs": [],
   "source": [
    "s=executeEpisode(model)"
   ]
  },
  {
   "cell_type": "code",
   "execution_count": 373,
   "id": "regulation-hampton",
   "metadata": {},
   "outputs": [
    {
     "name": "stdout",
     "output_type": "stream",
     "text": [
      "  a b c d e f g h\n",
      "1 * * * * o * * *\n",
      "2 o * o o o o * *\n",
      "3 o * o o * * o *\n",
      "4 o * o o * * o *\n",
      "5 o * o o * * o *\n",
      "6 o * o * * * * *\n",
      "7 o * * * * * * *\n",
      "8 o * * * * * o o\n"
     ]
    }
   ],
   "source": [
    "s.print_board()"
   ]
  },
  {
   "cell_type": "code",
   "execution_count": null,
   "id": "municipal-foundation",
   "metadata": {},
   "outputs": [],
   "source": []
  }
 ],
 "metadata": {
  "kernelspec": {
   "display_name": "reversi",
   "language": "python",
   "name": "reversi"
  },
  "language_info": {
   "codemirror_mode": {
    "name": "ipython",
    "version": 3
   },
   "file_extension": ".py",
   "mimetype": "text/x-python",
   "name": "python",
   "nbconvert_exporter": "python",
   "pygments_lexer": "ipython3",
   "version": "3.9.5"
  }
 },
 "nbformat": 4,
 "nbformat_minor": 5
}
